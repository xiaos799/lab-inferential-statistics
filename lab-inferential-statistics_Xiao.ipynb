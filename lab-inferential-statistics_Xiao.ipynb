{
 "cells": [
  {
   "cell_type": "code",
   "execution_count": null,
   "metadata": {},
   "outputs": [],
   "source": [
    "# Steps:\n",
    "# 1. Null hypothesis H0: the mean systolic blood pressure of the Honolulu Heart Study group is equal to the mean of the regular population \n",
    "#    (μ = 120 mm Hg); alternative hypothesis H1: they're not equal;\n",
    "# 2. Choose the significance level (α) 0.05for hypothesis testing;\n",
    "# 3. Identify the appropriate test statistic: Since the population standard deviation is known and the sample size is greater than 30 --> z-test;\n",
    "# 4. Calculate the test statistic;\n",
    "# 5. Compare the calculated test statistic to the critical value from the standard normal distribution at the chosen significance level;\n",
    "# 6. Interpret the results: If the calculated test statistic falls within the critical region --> the group from the Honolulu Heart Study is significantly different from the regular population in terms of systolic blood pressure.\n"
   ]
  },
  {
   "cell_type": "code",
   "execution_count": null,
   "metadata": {},
   "outputs": [],
   "source": [
    "# z = (x−μ)/(σ/sqr(n))\n",
    "#   = (130.1-120)/(21.21/sqr(100)) = 10.1/2.121 = 4.7619  "
   ]
  },
  {
   "cell_type": "code",
   "execution_count": 2,
   "metadata": {},
   "outputs": [
    {
     "name": "stdout",
     "output_type": "stream",
     "text": [
      "Test statistic (z): 4.761904761904759\n"
     ]
    }
   ],
   "source": [
    "import math\n",
    "\n",
    "sample_mean = 130.1\n",
    "population_mean = 120\n",
    "population_std = 21.21\n",
    "sample_size = 100\n",
    "\n",
    "z = (sample_mean - population_mean) / (population_std / math.sqrt(sample_size))\n",
    "print(\"Test statistic (z):\", z)\n"
   ]
  },
  {
   "cell_type": "code",
   "execution_count": null,
   "metadata": {},
   "outputs": [],
   "source": [
    "# Since this is a two-tailed test and the critical value for a significance level of α=0.05 is approximately ±1.96, and z = 4.7619 > 1.96\n",
    "# --> reject the null hypothesis H0, ie the group is significantly different (with respect to systolic blood pressure) from the regular population."
   ]
  }
 ],
 "metadata": {
  "kernelspec": {
   "display_name": "base",
   "language": "python",
   "name": "python3"
  },
  "language_info": {
   "codemirror_mode": {
    "name": "ipython",
    "version": 3
   },
   "file_extension": ".py",
   "mimetype": "text/x-python",
   "name": "python",
   "nbconvert_exporter": "python",
   "pygments_lexer": "ipython3",
   "version": "3.11.5"
  }
 },
 "nbformat": 4,
 "nbformat_minor": 2
}
